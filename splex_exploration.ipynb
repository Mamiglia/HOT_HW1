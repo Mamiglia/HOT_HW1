{
 "cells": [
  {
   "cell_type": "code",
   "execution_count": 10,
   "metadata": {},
   "outputs": [
    {
     "name": "stdout",
     "output_type": "stream",
     "text": [
      "The autoreload extension is already loaded. To reload it, use:\n",
      "  %reload_ext autoreload\n"
     ]
    }
   ],
   "source": [
    "%load_ext autoreload\n",
    "%autoreload 2\n",
    "from funcs import readin, show_adj_matrix, obj_function, adjmatrix2adjmap, GreedySPlex, VariableNeighborhoodDescent, Flip1, Swap, Solution, GRASP, SimulatedAnnealing \n",
    "import numpy as np\n",
    "\n",
    "from itertools import chain"
   ]
  },
  {
   "cell_type": "code",
   "execution_count": 11,
   "metadata": {},
   "outputs": [],
   "source": [
    "S, A, W = readin('data/test1.txt')\n",
    "N = A.shape[0]\n",
    "A1 = np.zeros(A.shape)\n"
   ]
  },
  {
   "cell_type": "code",
   "execution_count": 12,
   "metadata": {},
   "outputs": [
    {
     "name": "stdout",
     "output_type": "stream",
     "text": [
      "[[0 1 0 1 0 0 0 0 0]\n",
      " [1 0 1 0 0 0 0 0 0]\n",
      " [0 1 0 1 1 0 0 0 0]\n",
      " [1 0 1 0 1 0 0 0 0]\n",
      " [0 0 1 1 0 1 1 0 0]\n",
      " [0 0 0 0 1 0 1 1 0]\n",
      " [0 0 0 0 1 1 0 0 1]\n",
      " [0 0 0 0 0 1 0 0 1]\n",
      " [0 0 0 0 0 0 1 1 0]]\n"
     ]
    }
   ],
   "source": [
    "import networkx as nx\n",
    "\n",
    "G = nx.from_numpy_array(A)\n",
    "for g in nx.connected_components(G):\n",
    "    print(A[list(g)])"
   ]
  },
  {
   "cell_type": "code",
   "execution_count": 13,
   "metadata": {},
   "outputs": [
    {
     "data": {
      "text/plain": [
       "False"
      ]
     },
     "execution_count": 13,
     "metadata": {},
     "output_type": "execute_result"
    }
   ],
   "source": [
    "def is_splex( A: np.ndarray,  s: int) -> bool:\n",
    "    G = nx.from_numpy_array(A)\n",
    "\n",
    "    for cc in nx.connected_components(G):\n",
    "        if not is_splex_component(cc, s, A):\n",
    "            return False\n",
    "        \n",
    "    return True\n",
    "\n",
    "\n",
    "def is_splex_component(component : set, s: int, A: np.ndarray = A):\n",
    "    component = list(component)\n",
    "    neighbor_degrees = A[component].sum(axis=1)\n",
    "    return (neighbor_degrees >= neighbor_degrees.shape[0] - s).sum() > 0 \n",
    "    \n",
    "is_splex(A, 3)"
   ]
  },
  {
   "cell_type": "code",
   "execution_count": 14,
   "metadata": {},
   "outputs": [],
   "source": [
    "# sum([not is_splex(GreedySPlex(A,W,S).random_solution()[0], S) for _ in range(10000)])"
   ]
  },
  {
   "cell_type": "code",
   "execution_count": 15,
   "metadata": {},
   "outputs": [
    {
     "data": {
      "text/plain": [
       "({0: {0, 1},\n",
       "  1: {0, 1},\n",
       "  2: {2, 3, 4, 6},\n",
       "  3: {2, 3, 4, 6},\n",
       "  4: {2, 3, 4, 6},\n",
       "  5: {5, 7},\n",
       "  6: {2, 3, 4, 6},\n",
       "  7: {5, 7},\n",
       "  8: {8}},\n",
       " True,\n",
       " 24)"
      ]
     },
     "execution_count": 15,
     "metadata": {},
     "output_type": "execute_result"
    }
   ],
   "source": [
    "solver = GreedySPlex(A,W,1)\n",
    "A1, splexes = solver.random_solution()\n",
    "splexes, is_splex(A1,1), obj_function(A,A1,W)"
   ]
  },
  {
   "cell_type": "code",
   "execution_count": 16,
   "metadata": {},
   "outputs": [
    {
     "data": {
      "text/plain": [
       "array([[0, 1, 0, 0, 0, 0, 0, 0, 0],\n",
       "       [1, 0, 0, 0, 0, 0, 0, 0, 0],\n",
       "       [0, 0, 0, 1, 1, 0, 1, 0, 0],\n",
       "       [0, 0, 1, 0, 1, 0, 1, 0, 0],\n",
       "       [0, 0, 1, 1, 0, 0, 1, 0, 0],\n",
       "       [0, 0, 0, 0, 0, 0, 0, 1, 0],\n",
       "       [0, 0, 1, 1, 1, 0, 0, 0, 0],\n",
       "       [0, 0, 0, 0, 0, 1, 0, 0, 0],\n",
       "       [0, 0, 0, 0, 0, 0, 0, 0, 0]])"
      ]
     },
     "execution_count": 16,
     "metadata": {},
     "output_type": "execute_result"
    }
   ],
   "source": [
    "A1"
   ]
  },
  {
   "cell_type": "code",
   "execution_count": 17,
   "metadata": {},
   "outputs": [
    {
     "data": {
      "image/png": "[encoded data removed]",
      "text/plain": [
       "<Figure size 640x480 with 1 Axes>"
      ]
     },
     "metadata": {},
     "output_type": "display_data"
    },
    {
     "data": {
      "text/plain": [
       "24"
      ]
     },
     "execution_count": 17,
     "metadata": {},
     "output_type": "execute_result"
    }
   ],
   "source": [
    "show_adj_matrix(A1)\n",
    "obj_function(A,A1,W)"
   ]
  },
  {
   "cell_type": "markdown",
   "metadata": {},
   "source": [
    "# Variable Neighborhood Descent "
   ]
  },
  {
   "cell_type": "code",
   "execution_count": 18,
   "metadata": {},
   "outputs": [
    {
     "data": {
      "text/plain": [
       "Solution(A=array([[0, 1, 0, 1, 0, 0, 0, 0, 0],\n",
       "       [1, 0, 1, 0, 0, 0, 0, 0, 0],\n",
       "       [0, 1, 0, 1, 1, 0, 0, 0, 0],\n",
       "       [1, 0, 1, 0, 1, 0, 0, 0, 0],\n",
       "       [0, 0, 1, 1, 0, 1, 1, 0, 0],\n",
       "       [0, 0, 0, 0, 1, 0, 1, 1, 0],\n",
       "       [0, 0, 0, 0, 1, 1, 0, 0, 1],\n",
       "       [0, 0, 0, 0, 0, 1, 0, 0, 1],\n",
       "       [0, 0, 0, 0, 0, 0, 1, 1, 0]], dtype=int8), W=array([[ 0,  5,  6,  1,  9, 10,  1,  1,  1],\n",
       "       [ 5,  0,  2,  4,  6,  1,  1,  1,  1],\n",
       "       [ 6,  2,  0,  3,  1,  4,  2,  1,  1],\n",
       "       [ 1,  4,  3,  0,  6,  4,  3,  1,  1],\n",
       "       [ 9,  6,  1,  6,  0,  1,  1,  3,  3],\n",
       "       [10,  1,  4,  4,  1,  0,  1,  1,  2],\n",
       "       [ 1,  1,  2,  3,  1,  1,  0,  1,  1],\n",
       "       [ 1,  1,  1,  1,  3,  1,  1,  0,  1],\n",
       "       [ 1,  1,  1,  1,  3,  2,  1,  1,  0]], dtype=int32), A1=array([[0, 1, 0, 0, 0, 0, 0, 0, 0],\n",
       "       [1, 0, 0, 0, 0, 0, 0, 0, 0],\n",
       "       [0, 0, 0, 1, 1, 0, 1, 0, 0],\n",
       "       [0, 0, 1, 0, 1, 0, 0, 0, 0],\n",
       "       [0, 0, 1, 1, 0, 0, 1, 0, 0],\n",
       "       [0, 0, 0, 0, 0, 0, 0, 1, 0],\n",
       "       [0, 0, 1, 0, 1, 0, 0, 0, 0],\n",
       "       [0, 0, 0, 0, 0, 1, 0, 0, 0],\n",
       "       [0, 0, 0, 0, 0, 0, 0, 0, 0]]), clusters={0: {0, 1}, 1: {0, 1}, 2: {2, 3, 4, 6}, 3: {2, 3, 4, 6}, 4: {2, 3, 4, 6}, 5: {5, 7}, 6: {2, 3, 4, 6}, 7: {5, 7}, 8: {8}}, _obj=21)"
      ]
     },
     "execution_count": 18,
     "metadata": {},
     "output_type": "execute_result"
    }
   ],
   "source": [
    "x0 = Solution(A, W, A1, splexes)\n",
    "neighs = [Flip1()]\n",
    "\n",
    "vnd = VariableNeighborhoodDescent(neighs)\n",
    "vnd.search(x0)\n"
   ]
  },
  {
   "cell_type": "code",
   "execution_count": 19,
   "metadata": {},
   "outputs": [
    {
     "data": {
      "text/plain": [
       "Solution(A=array([[0, 1, 0, 1, 0, 0, 0, 0, 0],\n",
       "       [1, 0, 1, 0, 0, 0, 0, 0, 0],\n",
       "       [0, 1, 0, 1, 1, 0, 0, 0, 0],\n",
       "       [1, 0, 1, 0, 1, 0, 0, 0, 0],\n",
       "       [0, 0, 1, 1, 0, 1, 1, 0, 0],\n",
       "       [0, 0, 0, 0, 1, 0, 1, 1, 0],\n",
       "       [0, 0, 0, 0, 1, 1, 0, 0, 1],\n",
       "       [0, 0, 0, 0, 0, 1, 0, 0, 1],\n",
       "       [0, 0, 0, 0, 0, 0, 1, 1, 0]], dtype=int8), W=array([[ 0,  5,  6,  1,  9, 10,  1,  1,  1],\n",
       "       [ 5,  0,  2,  4,  6,  1,  1,  1,  1],\n",
       "       [ 6,  2,  0,  3,  1,  4,  2,  1,  1],\n",
       "       [ 1,  4,  3,  0,  6,  4,  3,  1,  1],\n",
       "       [ 9,  6,  1,  6,  0,  1,  1,  3,  3],\n",
       "       [10,  1,  4,  4,  1,  0,  1,  1,  2],\n",
       "       [ 1,  1,  2,  3,  1,  1,  0,  1,  1],\n",
       "       [ 1,  1,  1,  1,  3,  1,  1,  0,  1],\n",
       "       [ 1,  1,  1,  1,  3,  2,  1,  1,  0]], dtype=int32), A1=array([[0, 1, 0, 0, 0, 0, 0, 0, 0],\n",
       "       [1, 0, 1, 0, 0, 0, 0, 0, 0],\n",
       "       [0, 1, 0, 1, 1, 0, 0, 0, 0],\n",
       "       [0, 0, 1, 0, 1, 0, 0, 0, 0],\n",
       "       [0, 0, 1, 1, 0, 0, 0, 0, 0],\n",
       "       [0, 0, 0, 0, 0, 0, 1, 1, 0],\n",
       "       [0, 0, 0, 0, 0, 1, 0, 0, 1],\n",
       "       [0, 0, 0, 0, 0, 1, 0, 0, 1],\n",
       "       [0, 0, 0, 0, 0, 0, 1, 1, 0]]), clusters={0: {0, 1}, 1: {0, 1}, 2: {2, 3, 4}, 3: {2, 3, 4}, 4: {2, 3, 4}, 5: {8, 5, 6, 7}, 6: {8, 5, 6, 7}, 7: {8, 5, 6, 7}, 8: {8, 5, 6, 7}}, _obj=8)"
      ]
     },
     "execution_count": 19,
     "metadata": {},
     "output_type": "execute_result"
    }
   ],
   "source": [
    "grasp = GRASP(Flip1(), trials = 1000)\n",
    "\n",
    "grasp.search(S, A, W)"
   ]
  },
  {
   "cell_type": "code",
   "execution_count": 20,
   "metadata": {},
   "outputs": [
    {
     "data": {
      "text/plain": [
       "Solution(A=array([[0, 1, 0, 1, 0, 0, 0, 0, 0],\n",
       "       [1, 0, 1, 0, 0, 0, 0, 0, 0],\n",
       "       [0, 1, 0, 1, 1, 0, 0, 0, 0],\n",
       "       [1, 0, 1, 0, 1, 0, 0, 0, 0],\n",
       "       [0, 0, 1, 1, 0, 1, 1, 0, 0],\n",
       "       [0, 0, 0, 0, 1, 0, 1, 1, 0],\n",
       "       [0, 0, 0, 0, 1, 1, 0, 0, 1],\n",
       "       [0, 0, 0, 0, 0, 1, 0, 0, 1],\n",
       "       [0, 0, 0, 0, 0, 0, 1, 1, 0]], dtype=int8), W=array([[ 0,  5,  6,  1,  9, 10,  1,  1,  1],\n",
       "       [ 5,  0,  2,  4,  6,  1,  1,  1,  1],\n",
       "       [ 6,  2,  0,  3,  1,  4,  2,  1,  1],\n",
       "       [ 1,  4,  3,  0,  6,  4,  3,  1,  1],\n",
       "       [ 9,  6,  1,  6,  0,  1,  1,  3,  3],\n",
       "       [10,  1,  4,  4,  1,  0,  1,  1,  2],\n",
       "       [ 1,  1,  2,  3,  1,  1,  0,  1,  1],\n",
       "       [ 1,  1,  1,  1,  3,  1,  1,  0,  1],\n",
       "       [ 1,  1,  1,  1,  3,  2,  1,  1,  0]], dtype=int32), A1=array([[1, 1, 0, 1, 0, 0, 1, 0, 1],\n",
       "       [1, 1, 1, 0, 0, 0, 1, 0, 0],\n",
       "       [0, 1, 0, 1, 1, 0, 0, 0, 0],\n",
       "       [1, 0, 1, 1, 1, 0, 0, 0, 0],\n",
       "       [0, 0, 1, 1, 1, 0, 1, 0, 0],\n",
       "       [0, 0, 0, 0, 0, 0, 1, 1, 0],\n",
       "       [1, 1, 0, 0, 1, 1, 1, 1, 1],\n",
       "       [0, 0, 0, 0, 0, 1, 1, 0, 1],\n",
       "       [1, 0, 0, 0, 0, 0, 1, 1, 1]]), clusters={0: {0, 1}, 1: {0, 1}, 2: {2, 3, 4, 6}, 3: {2, 3, 4, 6}, 4: {2, 3, 4, 6}, 5: {5, 7}, 6: {2, 3, 4, 6}, 7: {5, 7}, 8: {8}}, _obj=17)"
      ]
     },
     "execution_count": 20,
     "metadata": {},
     "output_type": "execute_result"
    }
   ],
   "source": [
    "sa = SimulatedAnnealing(5, Flip1())\n",
    "\n",
    "sa.search(x0=x0)"
   ]
  }
 ],
 "metadata": {
  "kernelspec": {
   "display_name": "Python 3",
   "language": "python",
   "name": "python3"
  },
  "language_info": {
   "codemirror_mode": {
    "name": "ipython",
    "version": 3
   },
   "file_extension": ".py",
   "mimetype": "text/x-python",
   "name": "python",
   "nbconvert_exporter": "python",
   "pygments_lexer": "ipython3",
   "version": "3.11.5"
  }
 },
 "nbformat": 4,
 "nbformat_minor": 2
}
