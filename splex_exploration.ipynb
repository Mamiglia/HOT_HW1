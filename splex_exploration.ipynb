{
 "cells": [
  {
   "cell_type": "code",
   "execution_count": 10,
   "metadata": {},
   "outputs": [
    {
     "name": "stdout",
     "output_type": "stream",
     "text": [
      "The autoreload extension is already loaded. To reload it, use:\n",
      "  %reload_ext autoreload\n"
     ]
    }
   ],
   "source": [
    "%load_ext autoreload\n",
    "%autoreload 2\n",
    "from funcs import readin, show_adj_matrix, obj_function, adjmatrix2adjmap, GreedySPlex\n",
    "import numpy as np\n",
    "\n",
    "from itertools import chain"
   ]
  },
  {
   "cell_type": "code",
   "execution_count": 11,
   "metadata": {},
   "outputs": [],
   "source": [
    "S, A, W = readin('data/test1.txt')\n",
    "N = A.shape[0]\n",
    "A1 = np.zeros(A.shape)\n"
   ]
  },
  {
   "cell_type": "code",
   "execution_count": 12,
   "metadata": {},
   "outputs": [
    {
     "name": "stdout",
     "output_type": "stream",
     "text": [
      "[[0 1 0 1 0 0 0 0 0]\n",
      " [1 0 1 0 0 0 0 0 0]\n",
      " [0 1 0 1 1 0 0 0 0]\n",
      " [1 0 1 0 1 0 0 0 0]\n",
      " [0 0 1 1 0 1 1 0 0]\n",
      " [0 0 0 0 1 0 1 1 0]\n",
      " [0 0 0 0 1 1 0 0 1]\n",
      " [0 0 0 0 0 1 0 0 1]\n",
      " [0 0 0 0 0 0 1 1 0]]\n"
     ]
    }
   ],
   "source": [
    "import networkx as nx\n",
    "\n",
    "G = nx.from_numpy_array(A)\n",
    "for g in nx.connected_components(G):\n",
    "    print(A[list(g)])"
   ]
  },
  {
   "cell_type": "code",
   "execution_count": 13,
   "metadata": {},
   "outputs": [
    {
     "data": {
      "text/plain": [
       "False"
      ]
     },
     "execution_count": 13,
     "metadata": {},
     "output_type": "execute_result"
    }
   ],
   "source": [
    "def is_splex( A: np.ndarray,  s: int) -> bool:\n",
    "    G = nx.from_numpy_array(A)\n",
    "\n",
    "    for cc in nx.connected_components(G):\n",
    "        if not is_splex_component(cc, s, A):\n",
    "            return False\n",
    "        \n",
    "    return True\n",
    "\n",
    "\n",
    "def is_splex_component(component : set, s: int, A: np.ndarray = A):\n",
    "    component = list(component)\n",
    "    neighbor_degrees = A[component].sum(axis=1)\n",
    "    return (neighbor_degrees >= neighbor_degrees.shape[0] - s).sum() > 0 \n",
    "    \n",
    "is_splex(A, 3)"
   ]
  },
  {
   "cell_type": "code",
   "execution_count": 546,
   "metadata": {},
   "outputs": [
    {
     "data": {
      "text/plain": [
       "0"
      ]
     },
     "execution_count": 546,
     "metadata": {},
     "output_type": "execute_result"
    }
   ],
   "source": [
    "sum([not is_splex(GreedySPlex(A,W,S).random_solution()[0], S) for _ in range(10000)])"
   ]
  },
  {
   "cell_type": "code",
   "execution_count": 542,
   "metadata": {},
   "outputs": [
    {
     "name": "stdout",
     "output_type": "stream",
     "text": [
      "Considering [4,5]\n",
      "\tFast merge.\n",
      "Considering [2,4]\n",
      "\tFast merge.\n",
      "Considering [0,1]\n",
      "\tFast merge.\n",
      "Considering [4,6]\n",
      "\tFast merge.\n",
      "Considering [0,3]\n",
      "\tFast merge.\n",
      "Considering [2,3]\n",
      "\tCandidate Merging {2, 4, 5, 6} U {0, 1, 3}\n",
      "\t\tConsidering 2, missing: 3\n",
      "\t\t[ -99993 -100001   99999 -100002   99999  -99995  -99997       1       1]\n",
      "\t\t[3 6 1]\n",
      "\t\tConsidering 4, missing: 1\n",
      "\t\t[ -99990  -99993   99999 -100005   99999   99999   99999       3       3]\n",
      "\t\t[3]\n",
      "\t\tConsidering 5, missing: 3\n",
      "\t\t[ -99989  -99998  -99995  -99995   99999   99999 -100000      -1       2]\n",
      "\t\t[1 6 2]\n",
      "\t\tConsidering 6, missing: 1\n",
      "\t\t[-99998 -99998  99999 -99996  99999  99999  99999      1     -1]\n",
      "\t\t[0]\n",
      "\t\tConsidering 0, missing: 1\n",
      "\t\t[ 99999  99999 -99993  99999 -99990 -99989  99999      1      1]\n",
      "\t\t[2]\n",
      "\t\tConsidering 1, missing: 1\n",
      "\t\t[ 99999  99999  99999 -99995 -99993  99999 -99998      1      1]\n",
      "\t\t[6]\n",
      "\t\tConsidering 3, missing: 1\n",
      "\t\t[ 99999 -99995  99999  99999  99999 -99995 -99996      1      1]\n",
      "\t\t[6]\n",
      "\tCost: 6\n",
      "Considering [5,7]\n",
      "\tCandidate Merging {2, 4, 5, 6} U {7}\n",
      "\t\tConsidering 2, missing: 1\n",
      "\t\t[     6     -2  99999     -3  99999 -99995 -99997 -99998      1]\n",
      "\t\t[7]\n",
      "\t\tConsidering 4, missing: -1\n",
      "\t\tConsidering 5, missing: 1\n",
      "\t\t[     10       1  -99995       4   99999   99999 -100000 -100000       2]\n",
      "\t\t[6]\n",
      "\t\tConsidering 6, missing: 0\n",
      "\t\tConsidering 7, missing: 1\n",
      "\t\t[      1       1   99999       1  -99996 -100000  -99998   99999      -1]\n",
      "\t\t[5]\n",
      "\tCost: -1\n",
      "\tMerge.\n",
      "Considering [5,6]\n",
      "\tFast merge.\n",
      "Considering [1,2]\n",
      "\tCandidate Merging {0, 1, 3} U {2, 4, 5, 6, 7}\n",
      "\t\tConsidering 0, missing: 3\n",
      "\t\t[ 99999  99999 -99993  99999 -99990 -99989 -99998 -99998      1]\n",
      "\t\t[7 6 2]\n",
      "\t\tConsidering 1, missing: 4\n",
      "\t\t[  99999   99999 -100001  -99995  -99993  -99998  -99998  -99998       1]\n",
      "\t\t[7 2 6 5]\n",
      "\t\tConsidering 3, missing: 4\n",
      "\t\t[  99999  -99995 -100002   99999 -100005  -99995  -99996  -99998       1]\n",
      "\t\t[7 2 4 6]\n",
      "\t\tConsidering 2, missing: 0\n",
      "\t\tConsidering 4, missing: 1\n",
      "\t\t[-99990 -99993  99999  99999  99999  99999  99999 -99996      3]\n",
      "\t\t[7]\n",
      "\t\tConsidering 5, missing: 1\n",
      "\t\t[-99989  99999 -99995 -99995  99999  99999  99999  99999      2]\n",
      "\t\t[2]\n",
      "\t\tConsidering 6, missing: 0\n",
      "\t\tConsidering 7, missing: -1\n",
      "\tCost: 11\n",
      "Considering [7,8]\n",
      "\tCandidate Merging {2, 4, 5, 6, 7} U {8}\n",
      "\t\tConsidering 2, missing: 1\n",
      "\t\t[     6     -2  99999     -3  99999 -99995 -99997  99999 -99998]\n",
      "\t\t[8]\n",
      "\t\tConsidering 4, missing: 0\n",
      "\t\tConsidering 5, missing: 0\n",
      "\t\tConsidering 6, missing: 1\n",
      "\t\t[      1       1  -99997       3   99999   99999   99999  -99998 -100000]\n",
      "\t\t[8]\n",
      "\t\tConsidering 7, missing: 1\n",
      "\t\t[      1       1   99999       1  -99996   99999  -99998   99999 -100000]\n",
      "\t\t[8]\n",
      "\t\tConsidering 8, missing: 0\n",
      "\tCost: -1\n",
      "\tMerge.\n",
      "Considering [3,4]\n",
      "\tCandidate Merging {0, 1, 3} U {2, 4, 5, 6, 7, 8}\n",
      "\t\tConsidering 0, missing: 4\n",
      "\t\t[ 99999  99999 -99993  99999 -99990 -99989 -99998 -99998 -99998]\n",
      "\t\t[6 8 2 7]\n",
      "\t\tConsidering 1, missing: 5\n",
      "\t\t[  99999   99999 -100001  -99995  -99993  -99998  -99998  -99998  -99998]\n",
      "\t\t[7 2 6 8 5]\n",
      "\t\tConsidering 3, missing: 5\n",
      "\t\t[  99999  -99995 -100002   99999 -100005  -99995  -99996  -99998  -99998]\n",
      "\t\t[7 4 2 8 6]\n",
      "\t\tConsidering 2, missing: 0\n",
      "\t\tConsidering 4, missing: 2\n",
      "\t\t[-99990 -99993  99999  99999  99999  99999  99999 -99996 -99996]\n",
      "\t\t[7 8]\n",
      "\t\tConsidering 5, missing: 2\n",
      "\t\t[-99989  99999 -99995 -99995  99999  99999  99999  99999 -99997]\n",
      "\t\t[8 2]\n",
      "\t\tConsidering 6, missing: 0\n",
      "\t\tConsidering 7, missing: -1\n",
      "\t\tConsidering 8, missing: -2\n",
      "\tCost: 19\n",
      "Considering [6,8]\n",
      "\tFast merge.\n"
     ]
    },
    {
     "data": {
      "text/plain": [
       "({0: {0, 1, 3},\n",
       "  1: {0, 1, 3},\n",
       "  2: {2, 4, 5, 6, 7, 8},\n",
       "  3: {0, 1, 3},\n",
       "  4: {2, 4, 5, 6, 7, 8},\n",
       "  5: {2, 4, 5, 6, 7, 8},\n",
       "  6: {2, 4, 5, 6, 7, 8},\n",
       "  7: {2, 4, 5, 6, 7, 8},\n",
       "  8: {2, 4, 5, 6, 7, 8}},\n",
       " True,\n",
       " 26)"
      ]
     },
     "execution_count": 542,
     "metadata": {},
     "output_type": "execute_result"
    }
   ],
   "source": [
    "solver = GreedySPlex(A,W,3)\n",
    "A1, splexes = solver.random_solution()\n",
    "splexes, is_splex(A1,3), obj_function(A,A1,W)"
   ]
  },
  {
   "cell_type": "code",
   "execution_count": 457,
   "metadata": {},
   "outputs": [
    {
     "data": {
      "image/png": "[encoded data removed]",
      "text/plain": [
       "<Figure size 640x480 with 1 Axes>"
      ]
     },
     "metadata": {},
     "output_type": "display_data"
    },
    {
     "data": {
      "text/plain": [
       "26"
      ]
     },
     "execution_count": 457,
     "metadata": {},
     "output_type": "execute_result"
    }
   ],
   "source": [
    "show_adj_matrix(A1)\n",
    "obj_function(A,A1,W)"
   ]
  },
  {
   "cell_type": "code",
   "execution_count": null,
   "metadata": {},
   "outputs": [],
   "source": []
  }
 ],
 "metadata": {
  "kernelspec": {
   "display_name": "Python 3",
   "language": "python",
   "name": "python3"
  },
  "language_info": {
   "codemirror_mode": {
    "name": "ipython",
    "version": 3
   },
   "file_extension": ".py",
   "mimetype": "text/x-python",
   "name": "python",
   "nbconvert_exporter": "python",
   "pygments_lexer": "ipython3",
   "version": "3.11.5"
  }
 },
 "nbformat": 4,
 "nbformat_minor": 2
}
