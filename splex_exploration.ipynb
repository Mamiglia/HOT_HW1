{
 "cells": [
  {
   "cell_type": "code",
   "execution_count": 62,
   "metadata": {},
   "outputs": [
    {
     "name": "stdout",
     "output_type": "stream",
     "text": [
      "The autoreload extension is already loaded. To reload it, use:\n",
      "  %reload_ext autoreload\n"
     ]
    }
   ],
   "source": [
    "%load_ext autoreload\n",
    "%autoreload 2\n",
    "from funcs import readin, show_adj_matrix, obj_function, adjmatrix2adjmap\n",
    "import numpy as np\n",
    "\n",
    "from itertools import chain"
   ]
  },
  {
   "cell_type": "code",
   "execution_count": 15,
   "metadata": {},
   "outputs": [
    {
     "data": {
      "text/plain": [
       "5"
      ]
     },
     "execution_count": 15,
     "metadata": {},
     "output_type": "execute_result"
    }
   ],
   "source": [
    "S, A, W = readin('data/test1.txt')\n",
    "N = A.shape[0]\n",
    "A1 = np.zeros(A.shape)\n",
    "W[0,1]"
   ]
  },
  {
   "cell_type": "code",
   "execution_count": 19,
   "metadata": {},
   "outputs": [],
   "source": [
    "weightmap = adjmatrix2adjmap(W)\n",
    "adjmap    = adjmatrix2adjmap(A)\n",
    "\n",
    "\n",
    "# sorted(weightmap.keys(), key=weightmap.get, reverse=True)"
   ]
  },
  {
   "cell_type": "code",
   "execution_count": 61,
   "metadata": {},
   "outputs": [
    {
     "name": "stdout",
     "output_type": "stream",
     "text": [
      "3 4\n",
      "{3} {4}\n",
      "0.0 0.0\n",
      "Add 3 4\n",
      "0 1\n",
      "{0} {1}\n",
      "0.0 0.0\n",
      "Add 0 1\n",
      "2 3\n",
      "{2} {3, 4}\n",
      "0.0 1.0\n",
      "Add 2 3\n",
      "1 2\n",
      "{0, 1} {2, 3, 4}\n",
      "1.0 1.0\n",
      "0 3\n",
      "{0, 1} {2, 3, 4}\n",
      "1.0 2.0\n",
      "2 4\n",
      "{2, 3, 4} {2, 3, 4}\n",
      "1.0 1.0\n",
      "Add 2 4\n",
      "4 5\n",
      "{2, 3, 4} {5}\n",
      "2.0 0.0\n",
      "4 6\n",
      "{2, 3, 4} {6}\n",
      "2.0 0.0\n",
      "5 6\n",
      "{5} {6}\n",
      "0.0 0.0\n",
      "Add 5 6\n",
      "5 7\n",
      "{5, 6} {7}\n",
      "1.0 0.0\n",
      "Add 5 7\n",
      "6 8\n",
      "{5, 6, 7} {8}\n",
      "1.0 0.0\n",
      "7 8\n",
      "{5, 6, 7} {8}\n",
      "1.0 0.0\n"
     ]
    },
    {
     "data": {
      "text/plain": [
       "{0: {0, 1},\n",
       " 1: {0, 1},\n",
       " 2: {2, 3, 4},\n",
       " 3: {2, 3, 4},\n",
       " 4: {2, 3, 4},\n",
       " 5: {5, 6, 7},\n",
       " 6: {5, 6, 7},\n",
       " 7: {5, 6, 7},\n",
       " 8: {8}}"
      ]
     },
     "execution_count": 61,
     "metadata": {},
     "output_type": "execute_result"
    }
   ],
   "source": [
    "edges_by_weight = sorted(weightmap.keys(), key=weightmap.get, reverse=True)\n",
    "splexes = {i:{i} for i in range(N)}\n",
    "A1 = np.zeros(A.shape)\n",
    "\n",
    "for e in edges_by_weight:\n",
    "    if A[e] == 0:\n",
    "        continue\n",
    "    i,j = e\n",
    "    # we try to merge splex in i and j\n",
    "    s_i = splexes[i]\n",
    "    s_j = splexes[j]\n",
    "\n",
    "    print(i,j)\n",
    "    print(s_i, s_j)\n",
    "    print(A1[i].sum(), A1[j].sum())\n",
    "    if s_i is s_j:\n",
    "        # if they're already in same plex just add back the edge\n",
    "        A1[e] = 1\n",
    "        A1.T[e] = 1\n",
    "        print('Add', i, j)\n",
    "    elif len(s_i) + len(s_j) <= (S + 1):\n",
    "        # if they are less than S+1 they are always a legit s-plex\n",
    "        A1[e] = 1\n",
    "        A1.T[e] = 1\n",
    "        splexes[i] = s_i | s_j # union\n",
    "        for k in chain(s_i, s_j):\n",
    "            splexes[k] = splexes[i]\n",
    "        print('Add', i, j)\n",
    "    # else:\n",
    "    #     min_edges = len(s_i) + len(s_j) - S\n",
    "    #     A1[e] = 1\n",
    "    #     A1[e[1], e[0]] = 1\n",
    "    #     f_delta = W[e]\n",
    "\n",
    "    #     for k in chain(s_i, s_j):\n",
    "    #         edges_k = A1[k].sum()\n",
    "    #         dif = min_edges - edges_k\n",
    "    #         if dif == 1:\n",
    "    #             f_delta += W[k,i] * (A[k,i]*2-1) # Add if already in W or subtract otherwise\n",
    "    #         elif dif > 1:\n",
    "    #             break\n",
    "    #     else:\n",
    "    #         A1[e] = 0\n",
    "    #         A1[e[1], e[0]] = 0\n",
    "    #         print('Refuse', i, j)\n",
    "    #         continue\n",
    "    #     print('Add3', i, j)\n",
    "    #     splexes[i] = s_i | s_j # union\n",
    "\n",
    "    #     for k in chain(s_i, s_j):\n",
    "    #         splexes[k] = splexes[i]\n",
    "\n",
    "splexes"
   ]
  },
  {
   "cell_type": "code",
   "execution_count": 60,
   "metadata": {},
   "outputs": [
    {
     "data": {
      "text/plain": [
       "array([[ True,  True,  True,  True,  True,  True,  True,  True,  True],\n",
       "       [ True,  True,  True,  True,  True,  True,  True,  True,  True],\n",
       "       [ True,  True,  True,  True,  True,  True,  True,  True,  True],\n",
       "       [ True,  True,  True,  True,  True,  True,  True,  True,  True],\n",
       "       [ True,  True,  True,  True,  True,  True,  True,  True,  True],\n",
       "       [ True,  True,  True,  True,  True,  True,  True,  True,  True],\n",
       "       [ True,  True,  True,  True,  True,  True,  True,  True,  True],\n",
       "       [ True,  True,  True,  True,  True,  True,  True,  True,  True],\n",
       "       [ True,  True,  True,  True,  True,  True,  True,  True,  True]])"
      ]
     },
     "execution_count": 60,
     "metadata": {},
     "output_type": "execute_result"
    }
   ],
   "source": [
    "A1 == A1.T"
   ]
  },
  {
   "cell_type": "code",
   "execution_count": 55,
   "metadata": {},
   "outputs": [
    {
     "data": {
      "image/png": "[encoded data removed]",
      "text/plain": [
       "<Figure size 640x480 with 1 Axes>"
      ]
     },
     "metadata": {},
     "output_type": "display_data"
    },
    {
     "data": {
      "text/plain": [
       "14"
      ]
     },
     "execution_count": 55,
     "metadata": {},
     "output_type": "execute_result"
    }
   ],
   "source": [
    "show_adj_matrix(A1)\n",
    "obj_function(A,A1,W)"
   ]
  }
 ],
 "metadata": {
  "kernelspec": {
   "display_name": "Python 3",
   "language": "python",
   "name": "python3"
  },
  "language_info": {
   "codemirror_mode": {
    "name": "ipython",
    "version": 3
   },
   "file_extension": ".py",
   "mimetype": "text/x-python",
   "name": "python",
   "nbconvert_exporter": "python",
   "pygments_lexer": "ipython3",
   "version": "3.11.5"
  }
 },
 "nbformat": 4,
 "nbformat_minor": 2
}
