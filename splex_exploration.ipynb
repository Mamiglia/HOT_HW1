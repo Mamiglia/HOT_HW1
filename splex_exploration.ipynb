{
 "cells": [
  {
   "cell_type": "code",
   "execution_count": 14,
   "metadata": {},
   "outputs": [
    {
     "name": "stdout",
     "output_type": "stream",
     "text": [
      "The autoreload extension is already loaded. To reload it, use:\n",
      "  %reload_ext autoreload\n"
     ]
    }
   ],
   "source": [
    "%load_ext autoreload\n",
    "%autoreload 2\n",
    "from funcs import readin, show_adj_matrix, obj_function, adjmatrix2adjmap\n",
    "import numpy as np\n",
    "\n",
    "from itertools import chain"
   ]
  },
  {
   "cell_type": "code",
   "execution_count": 15,
   "metadata": {},
   "outputs": [],
   "source": [
    "S, A, W = readin('data/test1.txt')\n",
    "N = A.shape[0]\n",
    "A1 = np.zeros(A.shape)\n"
   ]
  },
  {
   "cell_type": "code",
   "execution_count": 16,
   "metadata": {},
   "outputs": [
    {
     "name": "stdout",
     "output_type": "stream",
     "text": [
      "[[0 1 0 1 0 0 0 0 0]\n",
      " [1 0 1 0 0 0 0 0 0]\n",
      " [0 1 0 1 1 0 0 0 0]\n",
      " [1 0 1 0 1 0 0 0 0]\n",
      " [0 0 1 1 0 1 1 0 0]\n",
      " [0 0 0 0 1 0 1 1 0]\n",
      " [0 0 0 0 1 1 0 0 1]\n",
      " [0 0 0 0 0 1 0 0 1]\n",
      " [0 0 0 0 0 0 1 1 0]]\n"
     ]
    }
   ],
   "source": [
    "import networkx as nx\n",
    "\n",
    "G = nx.from_numpy_array(A)\n",
    "for g in nx.connected_components(G):\n",
    "    print(A[list(g)])"
   ]
  },
  {
   "cell_type": "code",
   "execution_count": 17,
   "metadata": {},
   "outputs": [
    {
     "data": {
      "text/plain": [
       "False"
      ]
     },
     "execution_count": 17,
     "metadata": {},
     "output_type": "execute_result"
    }
   ],
   "source": [
    "def is_splex( A: np.ndarray,  s: int) -> bool:\n",
    "    G = nx.from_numpy_array(A)\n",
    "\n",
    "    for cc in nx.connected_components(G):\n",
    "        if not is_splex_component(cc, s, A):\n",
    "            return False\n",
    "        \n",
    "    return True\n",
    "\n",
    "\n",
    "def is_splex_component(component : set, s: int, A: np.ndarray = A):\n",
    "    component = list(component)\n",
    "    neighbor_degrees = A[component].sum(axis=1)\n",
    "    return (neighbor_degrees >= neighbor_degrees.shape[0] - s).sum() > 0 \n",
    "    \n",
    "is_splex(A, 3)"
   ]
  },
  {
   "cell_type": "code",
   "execution_count": 66,
   "metadata": {},
   "outputs": [
    {
     "name": "stdout",
     "output_type": "stream",
     "text": [
      "[0, 1, 2, 3, 4] [[  99999   99999  -99993 -100000  -99990      10       1       1       1]\n",
      " [  99999   99999 -100001  -99995  -99993       1       1       1       1]\n",
      " [ -99993 -100001   99999   99999 -100000       4       2       1       1]\n",
      " [-100000  -99995   99999   99999   99999       4       3       1       1]\n",
      " [ -99990  -99993 -100000   99999   99999      -1      -1       3       3]\n",
      " [     10       1       4       4      -1   99999      -1      -1       2]\n",
      " [      1       1       2       3      -1      -1   99999       1      -1]\n",
      " [      1       1       1       1       3      -1       1   99999      -1]\n",
      " [      1       1       1       1       3       2      -1      -1   99999]]\n",
      "[0, 1, 2, 3, 4] [[  99999   99999  -99993 -100000  -99990      10       1       1       1]\n",
      " [  99999   99999 -100001  -99995  -99993       1       1       1       1]\n",
      " [ -99993 -100001   99999   99999 -100000       4       2       1       1]\n",
      " [-100000  -99995   99999   99999   99999       4       3       1       1]\n",
      " [ -99990  -99993 -100000   99999   99999      -1      -1       3       3]\n",
      " [     10       1       4       4      -1   99999      -1      -1       2]\n",
      " [      1       1       2       3      -1      -1   99999       1      -1]\n",
      " [      1       1       1       1       3      -1       1   99999      -1]\n",
      " [      1       1       1       1       3       2      -1      -1   99999]]\n",
      "[2, 3, 4, 5] [[  99999   99999       6      -1       9      10       1       1       1]\n",
      " [  99999   99999      -2       4       6       1       1       1       1]\n",
      " [      6      -2   99999   99999   99999  -99995       2       1       1]\n",
      " [     -1       4   99999   99999   99999  -99995       3       1       1]\n",
      " [      9       6   99999   99999   99999 -100000      -1       3       3]\n",
      " [     10       1  -99995  -99995 -100000   99999      -1      -1       2]\n",
      " [      1       1       2       3      -1      -1   99999       1      -1]\n",
      " [      1       1       1       1       3      -1       1   99999      -1]\n",
      " [      1       1       1       1       3       2      -1      -1   99999]]\n",
      "[2, 3, 4, 6] [[  99999   99999       6      -1       9      10       1       1       1]\n",
      " [  99999   99999      -2       4       6       1       1       1       1]\n",
      " [      6      -2   99999   99999   99999       4  -99997       1       1]\n",
      " [     -1       4   99999   99999   99999       4  -99996       1       1]\n",
      " [      9       6   99999   99999   99999      -1 -100000       3       3]\n",
      " [     10       1       4       4      -1   99999      -1      -1       2]\n",
      " [      1       1  -99997  -99996 -100000      -1   99999       1      -1]\n",
      " [      1       1       1       1       3      -1       1   99999      -1]\n",
      " [      1       1       1       1       3       2      -1      -1   99999]]\n",
      "[5, 6, 7, 8] [[  99999   99999       6      -1       9      10       1       1       1]\n",
      " [  99999   99999      -2       4       6       1       1       1       1]\n",
      " [      6      -2   99999   99999   99999       4       2       1       1]\n",
      " [     -1       4   99999   99999   99999       4       3       1       1]\n",
      " [      9       6   99999   99999   99999      -1      -1       3       3]\n",
      " [     10       1       4       4      -1   99999   99999   99999  -99997]\n",
      " [      1       1       2       3      -1   99999   99999  -99998 -100000]\n",
      " [      1       1       1       1       3   99999  -99998   99999 -100000]\n",
      " [      1       1       1       1       3  -99997 -100000 -100000   99999]]\n",
      "[5, 6, 7, 8] [[  99999   99999       6      -1       9      10       1       1       1]\n",
      " [  99999   99999      -2       4       6       1       1       1       1]\n",
      " [      6      -2   99999   99999   99999       4       2       1       1]\n",
      " [     -1       4   99999   99999   99999       4       3       1       1]\n",
      " [      9       6   99999   99999   99999      -1      -1       3       3]\n",
      " [     10       1       4       4      -1   99999   99999   99999  -99997]\n",
      " [      1       1       2       3      -1   99999   99999  -99998 -100000]\n",
      " [      1       1       1       1       3   99999  -99998   99999 -100000]\n",
      " [      1       1       1       1       3  -99997 -100000 -100000   99999]]\n"
     ]
    },
    {
     "data": {
      "text/plain": [
       "{0: {0, 1},\n",
       " 1: {0, 1},\n",
       " 2: {2, 3, 4},\n",
       " 3: {2, 3, 4},\n",
       " 4: {2, 3, 4},\n",
       " 5: {5, 6, 7},\n",
       " 6: {5, 6, 7},\n",
       " 7: {5, 6, 7},\n",
       " 8: {8}}"
      ]
     },
     "execution_count": 66,
     "metadata": {},
     "output_type": "execute_result"
    }
   ],
   "source": [
    "\n",
    "class GreedySPlex:\n",
    "    TERROR_VALUE = 99999\n",
    "    def __init__(self, adjacency_matrix : np.ndarray, weight_matrix: np.ndarray, s: int):\n",
    "        self.A = adjacency_matrix\n",
    "        self.W = weight_matrix.copy()\n",
    "        np.fill_diagonal(self.W, GreedySPlex.TERROR_VALUE)\n",
    "        self.W[adjacency_matrix==1] *= -1\n",
    "        self.s = s \n",
    "        self.weightmap = adjmatrix2adjmap(self.W)\n",
    "\n",
    "    def solution(self):\n",
    "        splexes = {i:{i} for i in range(self.A.shape[0])}\n",
    "        A1 = np.zeros(self.A.shape, dtype=int)\n",
    "        # We start with the graph with all edges removed\n",
    "        # and we try to add them back one at a time (sorted by weight)\n",
    "        edges_by_weight = sorted([e for e in self.weightmap.keys() if self.weightmap[e]<0], key=self.weightmap.get)\n",
    "\n",
    "        for i,j in edges_by_weight:\n",
    "            s_i = splexes[i]\n",
    "            s_j = splexes[j]\n",
    "            plex_size = len(s_i) + len(s_j)\n",
    "            \n",
    "            if s_i is s_j or plex_size <= (S+1):\n",
    "                # if they are less than S+1 they are always a legit s-plex\n",
    "                self.merge(i,j,splexes, A1)\n",
    "                continue\n",
    "\n",
    "            cost = 0\n",
    "            added_edges = dict()\n",
    "            candidate_splex = list(chain(s_i, s_j))\n",
    "\n",
    "            # We now try to see if merging the 2 splexes is convenient or not\n",
    "            # For each of the nodes we check how many edges we need to add to make it a valid splex\n",
    "            # we then add the \"less expensive\" edges\n",
    "            # if the operation is convinient we perform it, otherwise we abort it\n",
    "\n",
    "            W1 = self.W.copy()\n",
    "            # in order to constrain our choice of edges to only those in the considered splexes,\n",
    "            # We're going to use a Terror_Value (very high number) to make the algorithm pick only the desired edges\n",
    "\n",
    "            # set the weights of candidate plex to very low value in order to make the algorithm choose that\n",
    "            W1[np.ix_(candidate_splex, candidate_splex)] -= GreedySPlex.TERROR_VALUE\n",
    "            # W1[list(s_j), list(s_i)] -= GreedySPlex.TERROR_VALUE\n",
    "            # set the weights of already present edges to terror value\n",
    "            W1[A1 == 1] = GreedySPlex.TERROR_VALUE\n",
    "            np.fill_diagonal(W1, GreedySPlex.TERROR_VALUE)\n",
    "\n",
    "            for k in candidate_splex:\n",
    "                missing_edges = plex_size - self.s - A1[k].sum()\n",
    "                weights = W1[k]\n",
    "                nodes = np.argpartition(weights, missing_edges)[:missing_edges+1]\n",
    "\n",
    "                added_edges[k] = nodes\n",
    "                cost += self.W[k,nodes].sum()\n",
    "                W1[k,nodes] = GreedySPlex.TERROR_VALUE\n",
    "                W1[nodes,k] = GreedySPlex.TERROR_VALUE\n",
    "\n",
    "            # if the computed cost indicates that there's a gain\n",
    "            if cost < 0:\n",
    "                self.merge(i,j,splexes, A1, added_edges)\n",
    "\n",
    "        return A1, splexes\n",
    "    \n",
    "    def merge(self, i: int, j: int, splexes: dict, A1: np.ndarray, added_edges : dict = None):\n",
    "        # Set edge\n",
    "        A1[i,j] = 1\n",
    "        A1.T[i,j] = 1\n",
    "        # Merge splexes\n",
    "        if splexes[i] is not splexes[j]:\n",
    "            splexes[i] = splexes[i] | splexes[j] # union\n",
    "            for k in splexes[i]:\n",
    "                splexes[k] = splexes[i]\n",
    "\n",
    "                if added_edges is not None:\n",
    "                    A1[k, added_edges[k]] = 1\n",
    "                    A1[added_edges[k], k] = 1\n",
    "\n",
    "solver = GreedySPlex(A,W,S)\n",
    "A1, splexes = solver.solution()\n",
    "splexes"
   ]
  },
  {
   "cell_type": "code",
   "execution_count": 67,
   "metadata": {},
   "outputs": [
    {
     "data": {
      "image/png": "[encoded data removed]",
      "text/plain": [
       "<Figure size 640x480 with 1 Axes>"
      ]
     },
     "metadata": {},
     "output_type": "display_data"
    },
    {
     "data": {
      "text/plain": [
       "14"
      ]
     },
     "execution_count": 67,
     "metadata": {},
     "output_type": "execute_result"
    }
   ],
   "source": [
    "show_adj_matrix(A1)\n",
    "obj_function(A,A1,W)"
   ]
  }
 ],
 "metadata": {
  "kernelspec": {
   "display_name": "Python 3",
   "language": "python",
   "name": "python3"
  },
  "language_info": {
   "codemirror_mode": {
    "name": "ipython",
    "version": 3
   },
   "file_extension": ".py",
   "mimetype": "text/x-python",
   "name": "python",
   "nbconvert_exporter": "python",
   "pygments_lexer": "ipython3",
   "version": "3.11.5"
  }
 },
 "nbformat": 4,
 "nbformat_minor": 2
}
